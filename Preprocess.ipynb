{
 "cells": [
  {
   "cell_type": "code",
   "execution_count": null,
   "metadata": {},
   "outputs": [],
   "source": [
    "import pandas as pd, matplotlib.pyplot as plt, nltk, re\n",
    "from nltk.stem import WordNetLemmatizer\n",
    "import functions\n",
    "from collections import Counter\n",
    "import numpy as np"
   ]
  },
  {
   "cell_type": "code",
   "execution_count": null,
   "metadata": {},
   "outputs": [],
   "source": [
    "def preprocess(text, verbose=True):\n",
    "    preprocessed = []\n",
    "    repeat = 0\n",
    "    lemmatizer = WordNetLemmatizer()\n",
    "    for t, tweet in enumerate(text):\n",
    "        if verbose:\n",
    "            print(\"Samples: {:,}/{:,}\".format(t+1, len(text)), end=\"\\r\", flush=True)\n",
    "        tmp = tweet.lower()\n",
    "        tmp = re.sub(\"(http(s)?://)?(www\\.)?([a-zA-Z0-9])+\\.(com|net|org)(/\\S*)?\",'urllink', tmp)\n",
    "        tmp = re.sub(\"[0-9]{1,2}/[0-9]{1,2}/([0-9]{4}|[0-9]{2})|([0-9]{4}|[0-9]{2})/[0-9]{1,2}/[0-9]{1,2}|[0-9]{2}/[0-9]{2}\", \"DATE\", tmp)\n",
    "        tmp = re.sub(\"[0-9]{2}(:[0-9]{2}){1,2}( ?(am|pm|p\\.m\\.|a\\.m\\.))?\", \"TIME\", tmp)\n",
    "        tmp = re.sub(\"[0-9]+\", \" nb \", tmp)\n",
    "        tmp = tmp.encode(encoding='ascii', errors='ignore').decode()\n",
    "        # get rid of the non ascii characters\n",
    "        tmp = re.sub(\"\\.{2,}\", \"...\", tmp)\n",
    "        for c in ['!', '-', ',']:\n",
    "            tmp = re.sub(\"{}+\".format(c), c, tmp)\n",
    "        tmp = re.sub(\"\\?+\", \"?\", tmp)\n",
    "        tmp = re.sub(\"`+\", \"'\", tmp)\n",
    "        tmp = re.sub(\"'{2,}\", \"'\", tmp)\n",
    "        \n",
    "        tmp = tmp.translate(str.maketrans(dict.fromkeys('#*+<=>@[\\\\]^_`{|}~'))) #removing all the other special characters\n",
    "        tokens = [t if t not in [\"''\", \"``\"] else '\"' for t in nltk.tokenize.word_tokenize(tmp) ]\n",
    "        # tokenizing using nltk.word_tokenize. althought it transforms '\"' into '``' or \"''\" and this is a behaviour do not want\n",
    "        # so we make sure that the '\"' are changed to their original form\n",
    "        i=0\n",
    "        while i < len(tokens):\n",
    "            if re.search(\"([a-z]+\\.+[a-z]+|\\.+[a-z]+|[a-z]+\\.+)\", tokens[i]):\n",
    "                #all the tokens containing dots are splited around dots\n",
    "                splited =  re.split(\"\\.\", tokens[i])\n",
    "                tmp = splited.pop(0) \n",
    "                while splited and not tmp:\n",
    "                    tmp = splited.pop(0)\n",
    "                tokens[i] = tmp\n",
    "                j = i+1\n",
    "                while splited:\n",
    "                    tmp = splited.pop(0)\n",
    "                    if tmp:\n",
    "                        tokens.insert(j, tmp)\n",
    "                        j += 1\n",
    "            i += 1\n",
    "                \n",
    "        for i, token in enumerate(tokens):\n",
    "            if re.search(r\"([a-z])\\1{2,}\", token):\n",
    "                repeat += 1\n",
    "                # cleaning the words containing a letter repeated 3 times or more, using the list of the Ensglish words\n",
    "                tokens[i] = functions.clean(token)\n",
    "            tokens[i] = lemmatizer.lemmatize(tokens[i])\n",
    "        preprocessed.append(tokens)\n",
    "    if verbose:\n",
    "        print(\"{} words with repetitions cleaned\".format(repeat))\n",
    "    return preprocessed"
   ]
  },
  {
   "cell_type": "code",
   "execution_count": null,
   "metadata": {},
   "outputs": [],
   "source": [
    "data = pd.read_csv(\"data/train_posts.csv\", header=None)"
   ]
  },
  {
   "cell_type": "code",
   "execution_count": null,
   "metadata": {},
   "outputs": [],
   "source": [
    "preprocessed = preprocess(data[0].values)"
   ]
  },
  {
   "cell_type": "code",
   "execution_count": null,
   "metadata": {},
   "outputs": [],
   "source": [
    "new_df = pd.DataFrame({\"text\" : preprocessed, \"label\":data[1].values})"
   ]
  },
  {
   "cell_type": "code",
   "execution_count": null,
   "metadata": {},
   "outputs": [],
   "source": [
    "new_df.to_pickle(\"data/test_preprocessed.pkl\")"
   ]
  }
 ],
 "metadata": {
  "kernelspec": {
   "display_name": "Python 3",
   "language": "python",
   "name": "python3"
  },
  "language_info": {
   "codemirror_mode": {
    "name": "ipython",
    "version": 3
   },
   "file_extension": ".py",
   "mimetype": "text/x-python",
   "name": "python",
   "nbconvert_exporter": "python",
   "pygments_lexer": "ipython3",
   "version": "3.7.4"
  }
 },
 "nbformat": 4,
 "nbformat_minor": 2
}
